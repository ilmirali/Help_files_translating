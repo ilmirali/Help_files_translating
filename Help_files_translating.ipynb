{
 "cells": [
  {
   "cell_type": "code",
   "execution_count": null,
   "metadata": {},
   "outputs": [],
   "source": [
    "# Help_files_translating"
   ]
  },
  {
   "cell_type": "code",
   "execution_count": null,
   "metadata": {},
   "outputs": [],
   "source": [
    "# ------------------------------------------------ ЧТЕНИЕ ИЗ СЛОВАРЯ ------------------------------------------------"
   ]
  },
  {
   "cell_type": "code",
   "execution_count": 12,
   "metadata": {},
   "outputs": [],
   "source": [
    "import xlrd\n",
    "\n",
    "book = xlrd.open_workbook('translate folder media translated.xlsx', on_demand = True)\n",
    "sheet = book.sheet_by_index(12)\n",
    "data = [[str(c.value) for c in sheet.row(i)] for i in range(sheet.nrows)]\n",
    "book.release_resources()\n",
    "del book"
   ]
  },
  {
   "cell_type": "code",
   "execution_count": 2,
   "metadata": {},
   "outputs": [],
   "source": [
    "data"
   ]
  },
  {
   "cell_type": "code",
   "execution_count": null,
   "metadata": {},
   "outputs": [],
   "source": [
    "# ---------------------------------------------- ВЫВОД СТРОКИ ИЗ СЛОВАРЯ ПО ЯЧЕЙКАМ ---------------------------------------------"
   ]
  },
  {
   "cell_type": "code",
   "execution_count": 14,
   "metadata": {},
   "outputs": [
    {
     "data": {
      "text/plain": [
       "'en (msusingsegtree) - 12 - 7'"
      ]
     },
     "execution_count": 14,
     "metadata": {},
     "output_type": "execute_result"
    }
   ],
   "source": [
    "data[0][0]"
   ]
  },
  {
   "cell_type": "code",
   "execution_count": null,
   "metadata": {},
   "outputs": [],
   "source": [
    "# ------------------------------------------------ ЧТЕНИЕ ИЗ ТАРГЕТА ДЛЯ ЗАМЕНЫ ------------------------------------------------"
   ]
  },
  {
   "cell_type": "code",
   "execution_count": 15,
   "metadata": {},
   "outputs": [
    {
     "name": "stdout",
     "output_type": "stream",
     "text": [
      "\n"
     ]
    }
   ],
   "source": [
    "handle = open(\"msusingsegtree.html\", \"r\", encoding='utf-8')\n",
    "data2 = handle.read()\n",
    "print(data2)\n",
    "handle.close()"
   ]
  },
  {
   "cell_type": "code",
   "execution_count": 3,
   "metadata": {},
   "outputs": [],
   "source": [
    "# ------------------------------------------------ ЗАМЕНА ПО СЛОВАРЮ ------------------------------------------------"
   ]
  },
  {
   "cell_type": "code",
   "execution_count": 16,
   "metadata": {},
   "outputs": [],
   "source": [
    "for i in range (1,7,1):\n",
    "    if data[i][0] in data2:\n",
    "        data2 = data2.replace(data[i][0],data[i][1])\n",
    "#print(data2)"
   ]
  },
  {
   "cell_type": "code",
   "execution_count": 4,
   "metadata": {},
   "outputs": [],
   "source": [
    "# ------------------------------------------------ ПРОВЕРКА ЗАМЕНЫ ------------------------------------------------------------"
   ]
  },
  {
   "cell_type": "code",
   "execution_count": 17,
   "metadata": {},
   "outputs": [
    {
     "data": {
      "text/plain": [
       "''"
      ]
     },
     "execution_count": 17,
     "metadata": {},
     "output_type": "execute_result"
    }
   ],
   "source": [
    "data2[:4000]"
   ]
  },
  {
   "cell_type": "code",
   "execution_count": null,
   "metadata": {},
   "outputs": [],
   "source": [
    "# ------------------------------------------------ ЗАПИСЬ В ТАРГЕТ ------------------------------------------------"
   ]
  },
  {
   "cell_type": "code",
   "execution_count": 5,
   "metadata": {},
   "outputs": [],
   "source": [
    "f = open('msusingsegtree.html', 'w', encoding='utf-8')"
   ]
  },
  {
   "cell_type": "code",
   "execution_count": 7,
   "metadata": {},
   "outputs": [],
   "source": [
    "f.write(data2)"
   ]
  },
  {
   "cell_type": "code",
   "execution_count": 150,
   "metadata": {},
   "outputs": [],
   "source": [
    "f.close()"
   ]
  },
  {
   "cell_type": "code",
   "execution_count": null,
   "metadata": {},
   "outputs": [],
   "source": [
    "# -----------------------------------------------ПРОВЕРКА РЕЗУЛЬТАТА ЗАПИСИ В ТАРГЕТ --------------------------------------------"
   ]
  },
  {
   "cell_type": "code",
   "execution_count": 109,
   "metadata": {},
   "outputs": [
    {
     "name": "stdout",
     "output_type": "stream",
     "text": [
      "<!DOCTYPE HTML PUBLIC \"-//W3C//DTD HTML 4.01 Transitional//EN\">\n",
      "<html>\n",
      "<head><META HTTP-EQUIV=\"CONTENT-TYPE\" CONTENT=\"text/html; charset=UTF-8\"> \n",
      "\t<link rel=\"StyleSheet\" href=\"document.css\" type=\"text/css\">\n",
      "\t<link rel=\"StyleSheet\" href=\"catalog.css\" type=\"text/css\">\n",
      "\n",
      "\t<meta http-equiv=\"Content-Type\" content=\"text/html; charset=ISO-8859-1\">\n",
      "\t<meta http-equiv=\"Content-Style-Type\" content=\"text/css\">\n",
      "\t<meta http-equiv=\"Content-Language\" content=\"en-us\">\n",
      "\t<meta name=\"TEMPLATEBASE\" content=\"1_CHM_78\">\n",
      "\t<meta name=\"LM\" content=\"2012-02-28\">\n",
      "\t<meta name=\"Description\" content=\"Oracle&#174; Marketing Segmentation Guide, Version 11.1.4\">\n",
      "\t<meta name=\"Keywords\" content=\"\">\n",
      "\t<meta name=\"Prodrel\" content=\"V8,P8\">\n",
      "\t <meta name=\"Prodver\" content=\"S80\">\n",
      "\t<meta name=\"DOCTYPE\" CONTENT=\"BKSHLF_sea\">\n",
      "\t<script src=\"Feedback.js\" type=\"text/javascript\"></script>\n",
      "\n",
      "\t<title>About Segment Tree Designer</title>\n",
      "\n",
      "\t<link rel=\"StyleSheet\" href=\"document.css\" type=\"text/css\">\n",
      "\t<link rel=\"StyleSheet\" href=\"catalog.css\" type=\"text/css\">\n",
      "\n",
      "</head>\n",
      "\n",
      "<body>\n",
      "<table cellspacing=\"0\" cellpadding=\"5\" border=\"0\" width=\"100%\" bgcolor=\"#A8B9DA\">\n",
      "\t<tr>\n",
      "\t\t<td class=\"links\" align=\"right\" nowrap><a href=\"mssegadvoptions.html\" title=\"Previous Topic\"><img src=\"images/prev.gif\" border=\"0\"></a> <a href=\"mscreatesegtree.html\" title=\"Next Topic\"><img src=\"images/next.gif\" border=\"0\"></a>&nbsp;&nbsp;</td>\n",
      "\t</tr>\n",
      "</table>\n",
      "\n",
      "<table cellspacing=\"5\" cellpadding=\"5\" border=\"0\" width=\"100%\">\n",
      "<tr><td>\n",
      "<p class=\"pNavPath\">\n",
      "<a href=\"msoverview.html\" title=\"\t\tUsing Marketing Segments and Segment Trees\">\t\t\n",
      "Marketing Segments and Segment Trees</a> &gt; </p>\n",
      "\n",
      "  <h2 class=\"ph1Heading1\"><a name=\"wp1005011\"> </a>About Segment Tree Designer</h2>\n",
      "<hr>  <p class=\"pt1Text1\"><a name=\"wp1023744\"> </a>Using the Segment Tree \n",
      "Designer, you can create a new segment tree or open a saved segment tree by \n",
      "selecting it in the selection pane, making changes, and saving the tree under \n",
      "the same or a new name. After you create a segment tree, you can save it in one \n",
      "of the folders in the Web Catalog in the selection pane. To obtain descriptions \n",
      "for frequently used terms, see <a href=\"msusingseg.html#wp1084052\" title=\"About the Segment Designer\">\n",
      "Frequently Used Terms for Marketing Segmentation</a>.</p>\n",
      "</td></tr>\n",
      "</table>\n",
      "\n",
      "<table cellspacing=\"0\" cellpadding=\"5\" border=\"0\" width=\"100%\" bgcolor=\"#A8B9DA\">\n",
      "\t<tr>\n",
      "\t\t<td class=\"links\" align=\"right\" nowrap><a href=\"mssegtqli.html\" title=\"Previous Topic\"><img src=\"images/prev.gif\" border=\"0\"></a> <a href=\"msstadvoptions.html\" title=\"Next Topic\"><img src=\"images/next.gif\" border=\"0\"></a>&nbsp;&nbsp;</td>\n",
      "\t</tr>\n",
      "</table>\n",
      "\n",
      "<table cellspacing=\"3\" cellpadding=\"0\" border=\"0\" width=\"100%\">\n",
      "\t<tr>\n",
      "\t\t<td class=\"titleinfo\" nowrap><span class=\"draft\"></span><em class=\"cEmphasis\"></em> </td>\n",
      "\t</tr>\n",
      "\t<tr>\n",
      "\t\t<td class=\"titleinfo\" nowrap>&nbsp;</td>\n",
      "\t</tr>\n",
      "</table>\n",
      "<p><a class=\"tocindexlink\" href=\"mstoc.html\" title=\"Мазмұны\">\n",
      "<u>Мазмұны</u></a></p>\n",
      "<p><font face=\"Arial\" size=\"2\">© 2013, Oracle авторлық құықтары. Барлық құқықтар қорғалған. </font></p>\n",
      "</body>\n",
      "</html>\n",
      "\n"
     ]
    }
   ],
   "source": [
    "handle = open(\"msusingsegtree.html\", \"r\", encoding='utf-8')\n",
    "# open(file, mode='r', buffering=-1, encoding=None, errors=None, newline=None, closefd=True)\n",
    "data3 = handle.read()\n",
    "print(data3)\n",
    "handle.close()"
   ]
  }
 ],
 "metadata": {
  "kernelspec": {
   "display_name": "Python 3",
   "language": "python",
   "name": "python3"
  },
  "language_info": {
   "codemirror_mode": {
    "name": "ipython",
    "version": 3
   },
   "file_extension": ".py",
   "mimetype": "text/x-python",
   "name": "python",
   "nbconvert_exporter": "python",
   "pygments_lexer": "ipython3",
   "version": "3.7.0"
  }
 },
 "nbformat": 4,
 "nbformat_minor": 2
}
